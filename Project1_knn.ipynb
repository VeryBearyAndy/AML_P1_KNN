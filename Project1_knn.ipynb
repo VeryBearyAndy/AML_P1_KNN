{
 "cells": [
  {
   "cell_type": "markdown",
   "id": "b8b20994",
   "metadata": {},
   "source": [
    " Andrew J Markland, ajm259@uakron.edu\\\n",
    " The University of Akron, CEPS, School of Computer Science\\\n",
    " Applied Machine Learning CPSC-436-010\\\n",
    " Dr. Zhong-Hui Duan\\\n",
    "\n",
    "# Project 1, kNN\n",
    " -Project Scope:\\\n",
    "     Apply the machine learning classification algorithm \"k nearest neighbors\"(kNN) to correctly classify a dataset of people based on their risk for MI, Myocardial Infarction.  "
   ]
  },
  {
   "cell_type": "code",
   "execution_count": 12,
   "id": "a1dda31b",
   "metadata": {},
   "outputs": [],
   "source": [
    "#imports, decided to keep that at the top to keep them global \n",
    "import pandas as pd\n",
    "import matplotlib.pyplot as plt\n",
    "from sklearn.neighbors import KNeighborsClassifier\n",
    "from sklearn.model_selection import train_test_split\n",
    "from pandas.plotting import scatter_matrix"
   ]
  },
  {
   "cell_type": "code",
   "execution_count": 28,
   "id": "d85ad390",
   "metadata": {},
   "outputs": [
    {
     "name": "stdout",
     "output_type": "stream",
     "text": [
      "      ParticipantID  Income  Sex  Age  Race  Edu  Diastolic    Systolic  \\\n",
      "665             666    5.00    1   55     3  NaN  82.333333  125.333333   \n",
      "2001           2002     NaN    1   61     2  5.0  96.000000  158.000000   \n",
      "2872           2873    3.14    1   58     3  3.0  66.666667  106.000000   \n",
      "3544           3545    4.64    2   56     3  NaN  84.333333  130.000000   \n",
      "3380           3381    1.96    2   48     4  NaN  78.666667  120.000000   \n",
      "...             ...     ...  ...  ...   ...  ...        ...         ...   \n",
      "3629           3630    1.88    1   66     7  4.0  78.000000  146.666667   \n",
      "2201           2202    0.47    1   73     1  1.0  67.333333  174.000000   \n",
      "2601           2602    5.00    2   50     3  NaN  84.333333  122.666667   \n",
      "2322           2323    2.65    1   61     3  NaN  79.666667  136.333333   \n",
      "2607           2608     NaN    1   51     2  NaN  84.666667  135.000000   \n",
      "\n",
      "          Pulse   BMI  HDL  Trig  LDL  TCHOL  kidneys_eGFR  Diabetes  \\\n",
      "665   74.000000  41.3   30   312   61    125    102.986861       1.0   \n",
      "2001  78.000000  30.4   51   274  173    279    101.856306       2.0   \n",
      "2872  80.000000  29.9   32   263  114    199     89.381909       1.0   \n",
      "3544  64.000000  34.3   42   122  149    215    102.815709       2.0   \n",
      "3380  85.000000  26.9   51    70  111    178     78.974997       2.0   \n",
      "...         ...   ...  ...   ...  ...    ...           ...       ...   \n",
      "3629  84.000000  31.1   45   135  107    179     82.021405       2.0   \n",
      "2201  52.000000  28.8   45   130  129    200     45.554287       1.0   \n",
      "2601  58.666667  31.4   51   155   97    173     88.643650       2.0   \n",
      "2322  73.000000  31.3   41   155  167    238     99.214643       1.0   \n",
      "2607  74.000000  32.6   28   109  119    169    107.148234       2.0   \n",
      "\n",
      "      CurrentSmoker  isActive  isInsured  MI  \n",
      "665               2       2.0        1.0   1  \n",
      "2001              2       2.0        1.0   1  \n",
      "2872              2       1.0        1.0   1  \n",
      "3544              2       2.0        1.0   2  \n",
      "3380              2       2.0        1.0   2  \n",
      "...             ...       ...        ...  ..  \n",
      "3629              1       2.0        1.0   1  \n",
      "2201              2       2.0        1.0   1  \n",
      "2601              2       2.0        1.0   2  \n",
      "2322              2       2.0        1.0   1  \n",
      "2607              1       2.0        1.0   1  \n",
      "\n",
      "[228 rows x 20 columns]\n",
      "114\n",
      "114\n"
     ]
    }
   ],
   "source": [
    "people_df = pd.read_csv(\"NHANES_data_train.csv\")\n",
    "#partitioning random test data and and training data\n",
    "trainDf, testDf = train_test_split(people_df, test_size = 0.2, random_state = None)\n",
    "\n",
    "#Get counts of persons with MI and noMI\n",
    "MIcount = (trainDf[\"MI\"] == 1).sum()\n",
    "noMIcount = (trainDf[\"MI\"] == 2).sum()\n",
    "#Isolate the same number of NoMI's as the MI subgroup\n",
    "MI_sample = trainDf[trainDf[\"MI\"] == 1]\n",
    "NoMI_sample = (trainDf[trainDf[\"MI\"] == 2]).sample(frac=(MIcount/noMIcount))\n",
    "#fTrainSample is the final sample group to train the KNN model on, comprising the same number of\n",
    "     #people with MI's and people without MI's and on a random scale\n",
    "fTrainSample = (pd.concat([MI_sample, NoMI_sample])).sample(frac=1)\n",
    "\n",
    "\n",
    "\n"
   ]
  },
  {
   "cell_type": "code",
   "execution_count": null,
   "id": "3c631062",
   "metadata": {},
   "outputs": [],
   "source": []
  }
 ],
 "metadata": {
  "kernelspec": {
   "display_name": "Python 3 (ipykernel)",
   "language": "python",
   "name": "python3"
  },
  "language_info": {
   "codemirror_mode": {
    "name": "ipython",
    "version": 3
   },
   "file_extension": ".py",
   "mimetype": "text/x-python",
   "name": "python",
   "nbconvert_exporter": "python",
   "pygments_lexer": "ipython3",
   "version": "3.11.5"
  }
 },
 "nbformat": 4,
 "nbformat_minor": 5
}
