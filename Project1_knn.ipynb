{
 "cells": [
  {
   "cell_type": "markdown",
   "id": "b8b20994",
   "metadata": {},
   "source": [
    " Andrew J Markland, ajm259@uakron.edu\\\n",
    " The University of Akron, CEPS, School of Computer Science\\\n",
    " Applied Machine Learning CPSC-436-010\\\n",
    " Dr. Zhong-Hui Duan\\\n",
    "\n",
    "# Project 1, kNN\n",
    " -Project Scope:\\\n",
    "     Apply the machine learning classification algorithm \"k nearest neighbors\"(kNN) to correctly classify a dataset of people based on their risk for MI, Myocardial Infarction.  "
   ]
  },
  {
   "cell_type": "code",
   "execution_count": 7,
   "id": "a1dda31b",
   "metadata": {},
   "outputs": [],
   "source": [
    "#imports \n",
    "import pandas as pd\n",
    "import matplotlib.pyplot as plt\n",
    "from sklearn.neighbors import KNeighborsClassifier\n",
    "from pandas.plotting import scatter_matrix"
   ]
  },
  {
   "cell_type": "code",
   "execution_count": 11,
   "id": "d85ad390",
   "metadata": {},
   "outputs": [
    {
     "name": "stdout",
     "output_type": "stream",
     "text": [
      "145\n"
     ]
    }
   ],
   "source": [
    "people_df = pd.read_csv(\"NHANES_data_train.csv\")\n",
    "#count of people with MI's and total without MI's\n",
    "MICount = (people_df[\"MI\"] == 1).sum()\n",
    "print(MICount)\n"
   ]
  },
  {
   "cell_type": "code",
   "execution_count": 6,
   "id": "3c631062",
   "metadata": {},
   "outputs": [
    {
     "name": "stdout",
     "output_type": "stream",
     "text": [
      "      ParticipantID  Income  Sex  Age  Race  Edu  Diastolic    Systolic  \\\n",
      "0                 1    4.56    1   70     3  NaN  69.000000  124.333333   \n",
      "1                 2    5.00    2   49     3  5.0  64.000000  102.666667   \n",
      "2                 3    1.59    1   54     4  NaN  96.000000  160.000000   \n",
      "3                 4    2.37    1   73     3  NaN  58.000000  134.666667   \n",
      "4                 5    5.00    1   42     3  NaN  82.333333  116.000000   \n",
      "...             ...     ...  ...  ...   ...  ...        ...         ...   \n",
      "4074           4075    1.32    2   68     2  1.0  46.666667  116.000000   \n",
      "4075           4076    0.68    1   51     3  NaN  59.333333  105.666667   \n",
      "4076           4077    1.02    2   54     3  3.0  62.666667  107.333333   \n",
      "4077           4078     NaN    2   48     4  4.0  74.000000  126.666667   \n",
      "4078           4079    1.57    2   61     4  NaN  76.666667  115.333333   \n",
      "\n",
      "          Pulse   BMI  HDL  Trig  LDL  TCHOL  kidneys_eGFR  Diabetes  \\\n",
      "0     61.333333  25.6   46   186  207    289     77.244722       2.0   \n",
      "1     66.000000  22.4   63    60  108    183    101.217970       2.0   \n",
      "2           NaN  25.4   60   102  179    261     71.863349       2.0   \n",
      "3     62.666667  34.0   41   105  110    172     72.459827       2.0   \n",
      "4     63.666667  30.4   49    98  203    275     79.009375       2.0   \n",
      "...         ...   ...  ...   ...  ...    ...           ...       ...   \n",
      "4074  78.000000  33.8   55    88   75    148    102.935178       1.0   \n",
      "4075  47.333333  41.9   61   151   95    181     96.908003       1.0   \n",
      "4076  70.000000  27.5   88   284  108    253     63.847943       2.0   \n",
      "4077  70.000000  30.4   66    41  116    190    109.782539       2.0   \n",
      "4078  76.666667  35.8   61    97   98    178     84.041156       2.0   \n",
      "\n",
      "      CurrentSmoker  isActive  isInsured  MI  \n",
      "0                 2       2.0        1.0   2  \n",
      "1                 2       2.0        1.0   2  \n",
      "2                 2       2.0        1.0   2  \n",
      "3                 2       1.0        1.0   2  \n",
      "4                 2       2.0        2.0   2  \n",
      "...             ...       ...        ...  ..  \n",
      "4074              2       2.0        1.0   2  \n",
      "4075              1       1.0        1.0   2  \n",
      "4076              1       2.0        2.0   2  \n",
      "4077              2       2.0        1.0   2  \n",
      "4078              2       1.0        1.0   2  \n",
      "\n",
      "[4079 rows x 20 columns]\n"
     ]
    }
   ],
   "source": []
  }
 ],
 "metadata": {
  "kernelspec": {
   "display_name": "Python 3 (ipykernel)",
   "language": "python",
   "name": "python3"
  },
  "language_info": {
   "codemirror_mode": {
    "name": "ipython",
    "version": 3
   },
   "file_extension": ".py",
   "mimetype": "text/x-python",
   "name": "python",
   "nbconvert_exporter": "python",
   "pygments_lexer": "ipython3",
   "version": "3.11.5"
  }
 },
 "nbformat": 4,
 "nbformat_minor": 5
}
