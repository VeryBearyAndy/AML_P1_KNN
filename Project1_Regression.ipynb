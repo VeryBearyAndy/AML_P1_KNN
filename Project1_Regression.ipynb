{
 "cells": [
  {
   "cell_type": "code",
   "execution_count": 47,
   "outputs": [],
   "source": [
    "import numpy as np\n",
    "import pandas as pd\n",
    "from sklearn.model_selection import train_test_split\n",
    "from sklearn.impute import KNNImputer\n",
    "from sklearn.linear_model import LogisticRegression\n",
    "from sklearn.preprocessing import StandardScaler\n",
    "from sklearn.pipeline import make_pipeline\n",
    "import matplotlib.pyplot as plt\n",
    "from sklearn.metrics import confusion_matrix\n",
    "from sklearn.metrics import accuracy_score, classification_report\n",
    "import itertools\n"
   ],
   "metadata": {
    "collapsed": false,
    "ExecuteTime": {
     "end_time": "2024-02-21T01:28:28.206965800Z",
     "start_time": "2024-02-21T01:28:28.196960900Z"
    }
   },
   "id": "61cdc504560bceb3"
  },
  {
   "cell_type": "code",
   "execution_count": 90,
   "outputs": [
    {
     "name": "stdout",
     "output_type": "stream",
     "text": [
      "0.7287581699346405\n",
      "              precision    recall  f1-score   support\n",
      "\n",
      "         1.0       0.25      0.74      0.38        34\n",
      "         2.0       0.96      0.73      0.83       272\n",
      "\n",
      "    accuracy                           0.73       306\n",
      "   macro avg       0.60      0.73      0.60       306\n",
      "weighted avg       0.88      0.73      0.78       306\n"
     ]
    }
   ],
   "source": [
    "#initial run where data sets are balanced\n",
    "\n",
    "people_df = pd.read_csv(\"NHANES_data_train.csv\")\n",
    "#partition data sets\n",
    "trainDf, testDf = train_test_split(people_df, test_size = 0.2, random_state = None)\n",
    "\n",
    "#get counts\n",
    "MIcount = (trainDf[\"MI\"] == 1).sum()\n",
    "noMIcount = (trainDf[\"MI\"] == 2).sum()\n",
    "testMIcount = (testDf[\"MI\"] == 1).sum()\n",
    "testnoMIcount = (testDf[\"MI\"] == 2).sum()\n",
    "\n",
    "#Balance data sets\n",
    "dirtyTrainMI_sample = trainDf[trainDf[\"MI\"] == 1]\n",
    "cleanTrainNoMISample = ((trainDf[trainDf[\"MI\"] == 2]).dropna())\n",
    "noMIcount = (cleanTrainNoMISample[\"MI\"] == 2).sum()\n",
    "cleanTrainNoMISample = cleanTrainNoMISample.sample(frac=(MIcount/noMIcount))\n",
    "    \n",
    "#clean data sets\n",
    "dirtyTestMI_sample = testDf[testDf[\"MI\"] == 1]\n",
    "cleanTestNoMISample = ((testDf[testDf[\"MI\"] == 2]).dropna())\n",
    "\n",
    "imputer = KNNImputer(n_neighbors = 3)\n",
    "    \n",
    "crudeCleanTrainMI = imputer.fit_transform(dirtyTrainMI_sample)\n",
    "cleanTrainMI = pd.DataFrame(crudeCleanTrainMI, columns = dirtyTrainMI_sample.columns)\n",
    "\n",
    "crudeCleanTestMI = imputer.fit_transform(dirtyTestMI_sample)\n",
    "cleanTestMI = pd.DataFrame(crudeCleanTestMI, columns = dirtyTestMI_sample.columns)\n",
    "\n",
    "#partition final samples\n",
    "fTrainSample = (pd.concat([cleanTrainMI, cleanTrainNoMISample])).sample(frac=1)\n",
    "fTestSample = (pd.concat([cleanTestMI, cleanTestNoMISample])).sample(frac=1)\n",
    "\n",
    "#partition test and train\n",
    "xTrain = fTrainSample.drop(\"MI\", axis = 1)\n",
    "yTrain = fTrainSample[\"MI\"]\n",
    "xTest = fTestSample.drop(\"MI\", axis=1)\n",
    "yTest = fTestSample[\"MI\"]  # Corrected to use fTestSample\n",
    "\n",
    "#instanciate the object\n",
    "lr = LogisticRegression(random_state= 0)\n",
    "scaler = StandardScaler()\n",
    "pipeline = make_pipeline(scaler, lr)\n",
    "pipeline.fit(xTrain, yTrain)\n",
    "\n",
    "#pipe it through a scalar\n",
    "yPred = pipeline.predict(xTest)\n",
    "\n",
    "#print results\n",
    "print(accuracy_score(yTest, yPred))\n",
    "print(classification_report(yTest, yPred))\n",
    "cm = confusion_matrix(yTest, yPred)\n"
   ],
   "metadata": {
    "collapsed": false,
    "ExecuteTime": {
     "end_time": "2024-02-21T01:37:29.692819400Z",
     "start_time": "2024-02-21T01:37:29.633815100Z"
    }
   },
   "id": "b7811a19f74356cb"
  },
  {
   "cell_type": "code",
   "execution_count": 91,
   "outputs": [
    {
     "data": {
      "text/plain": "<Figure size 800x600 with 2 Axes>",
      "image/png": "[encoded data removed]"
     },
     "metadata": {},
     "output_type": "display_data"
    }
   ],
   "source": [
    "plt.figure(figsize=(8, 6))\n",
    "plt.imshow(cm, interpolation='nearest', cmap=plt.cm.Blues)\n",
    "plt.title('Confusion Matrix')\n",
    "plt.colorbar()\n",
    "tick_marks = np.arange(len(set(yTest)))  # Assuming yTest contains your classes\n",
    "plt.xticks(tick_marks, set(yTest), rotation=45)\n",
    "plt.yticks(tick_marks, set(yTest))\n",
    "\n",
    "# Labeling the plot\n",
    "thresh = cm.max() / 2.\n",
    "for i, j in itertools.product(range(cm.shape[0]), range(cm.shape[1])):\n",
    "    plt.text(j, i, cm[i, j],\n",
    "             horizontalalignment=\"center\",\n",
    "             color=\"white\" if cm[i, j] > thresh else \"black\")\n",
    "\n",
    "plt.tight_layout()\n",
    "plt.ylabel('True label')\n",
    "plt.xlabel('Predicted label')\n",
    "plt.show()\n"
   ],
   "metadata": {
    "collapsed": false,
    "ExecuteTime": {
     "end_time": "2024-02-21T01:37:32.433307200Z",
     "start_time": "2024-02-21T01:37:32.271311100Z"
    }
   },
   "id": "3201971e61d07b01"
  },
  {
   "cell_type": "code",
   "execution_count": 172,
   "outputs": [
    {
     "name": "stdout",
     "output_type": "stream",
     "text": [
      "0.7706093189964157\n",
      "              precision    recall  f1-score   support\n",
      "\n",
      "         1.0       0.23      0.59      0.33        27\n",
      "         2.0       0.95      0.79      0.86       252\n",
      "\n",
      "    accuracy                           0.77       279\n",
      "   macro avg       0.59      0.69      0.60       279\n",
      "weighted avg       0.88      0.77      0.81       279\n"
     ]
    }
   ],
   "source": [
    "#Imbalanced dataset\n",
    "\n",
    "people_df = pd.read_csv(\"NHANES_data_train.csv\")\n",
    "#partition data sets\n",
    "trainDf, testDf = train_test_split(people_df, test_size = 0.2, random_state = None)\n",
    "\n",
    "#get counts\n",
    "MIcount = (trainDf[\"MI\"] == 1).sum()\n",
    "noMIcount = (trainDf[\"MI\"] == 2).sum()\n",
    "testMIcount = (testDf[\"MI\"] == 1).sum()\n",
    "testnoMIcount = (testDf[\"MI\"] == 2).sum()\n",
    "\n",
    "#Balance data sets\n",
    "dirtyTrainMI_sample = trainDf[trainDf[\"MI\"] == 1]\n",
    "cleanTrainNoMISample = ((trainDf[trainDf[\"MI\"] == 2]).dropna())\n",
    "noMIcount = (cleanTrainNoMISample[\"MI\"] == 2).sum()\n",
    "\n",
    "\n",
    "cleanTrainNoMISample = cleanTrainNoMISample.sample(frac=(MIcount/noMIcount)*1.5)\n",
    "    \n",
    "#clean data sets\n",
    "dirtyTestMI_sample = testDf[testDf[\"MI\"] == 1]\n",
    "cleanTestNoMISample = ((testDf[testDf[\"MI\"] == 2]).dropna())\n",
    "\n",
    "imputer = KNNImputer(n_neighbors = 11)\n",
    "    \n",
    "crudeCleanTrainMI = imputer.fit_transform(dirtyTrainMI_sample)\n",
    "cleanTrainMI = pd.DataFrame(crudeCleanTrainMI, columns = dirtyTrainMI_sample.columns)\n",
    "\n",
    "crudeCleanTestMI = imputer.fit_transform(dirtyTestMI_sample)\n",
    "cleanTestMI = pd.DataFrame(crudeCleanTestMI, columns = dirtyTestMI_sample.columns)\n",
    "\n",
    "#partition final samples\n",
    "fTrainSample = (pd.concat([cleanTrainMI, cleanTrainNoMISample])).sample(frac=1)\n",
    "fTestSample = (pd.concat([cleanTestMI, cleanTestNoMISample])).sample(frac=1)\n",
    "\n",
    "#partition test and train\n",
    "xTrain2 = fTrainSample.drop(\"MI\", axis = 1)\n",
    "yTrain = fTrainSample[\"MI\"]\n",
    "xTest = fTestSample.drop(\"MI\", axis=1)\n",
    "yTest2 = fTestSample[\"MI\"]  # Corrected to use fTestSample\n",
    "\n",
    "#instanciate the object\n",
    "lr = LogisticRegression(random_state= 0)\n",
    "scaler = StandardScaler()\n",
    "pipeline = make_pipeline(scaler, lr)\n",
    "pipeline.fit(xTrain2, yTrain)\n",
    "\n",
    "#pipe it through a scalar\n",
    "yPred2 = pipeline.predict(xTest)\n",
    "\n",
    "#print results\n",
    "print(accuracy_score(yTest2, yPred2))\n",
    "print(classification_report(yTest2, yPred2))\n",
    "cm = confusion_matrix(yTest2, yPred2)\n"
   ],
   "metadata": {
    "collapsed": false,
    "ExecuteTime": {
     "end_time": "2024-02-21T03:35:16.875747900Z",
     "start_time": "2024-02-21T03:35:16.803696800Z"
    }
   },
   "id": "44a65ce1229fc7f7"
  },
  {
   "cell_type": "code",
   "execution_count": 173,
   "outputs": [
    {
     "data": {
      "text/plain": "<Figure size 800x600 with 2 Axes>",
      "image/png": "[encoded data removed]"
     },
     "metadata": {},
     "output_type": "display_data"
    }
   ],
   "source": [
    "plt.figure(figsize=(8, 6))\n",
    "plt.imshow(cm, interpolation='nearest', cmap=plt.cm.Blues)\n",
    "plt.title('Confusion Matrix')\n",
    "plt.colorbar()\n",
    "tick_marks = np.arange(len(set(yTest2)))  # Assuming yTest contains your classes\n",
    "plt.xticks(tick_marks, set(yTest2), rotation=45)\n",
    "plt.yticks(tick_marks, set(yTest2))\n",
    "\n",
    "# Labeling the plot\n",
    "thresh = cm.max() / 2.\n",
    "for i, j in itertools.product(range(cm.shape[0]), range(cm.shape[1])):\n",
    "    plt.text(j, i, cm[i, j],\n",
    "             horizontalalignment=\"center\",\n",
    "             color=\"white\" if cm[i, j] > thresh else \"black\")\n",
    "\n",
    "plt.tight_layout()\n",
    "plt.ylabel('True label')\n",
    "plt.xlabel('Predicted label')\n",
    "plt.show()\n"
   ],
   "metadata": {
    "collapsed": false,
    "ExecuteTime": {
     "end_time": "2024-02-21T03:35:19.996595400Z",
     "start_time": "2024-02-21T03:35:19.801555900Z"
    }
   },
   "id": "3580e14feca4c448"
  },
  {
   "cell_type": "code",
   "execution_count": 190,
   "outputs": [],
   "source": [
    "#final run\n",
    "people_df = pd.read_csv(\"NHANES_data_train.csv\")\n",
    "test_df = pd.read_csv(\"NHANES_test_data_4_students.csv\")\n",
    "\n",
    "#partition data sets\n",
    "participantID = test_df[\"ParticipantID\"]\n",
    "\n",
    "\n",
    "#get counts\n",
    "MIcount = (people_df[\"MI\"] == 1).sum()\n",
    "noMIcount = (people_df[\"MI\"] == 2).sum()\n",
    "\n",
    "#Balance data sets\n",
    "dirtyTrainMI_sample = people_df[people_df[\"MI\"] == 1]\n",
    "cleanTrainNoMISample = ((people_df[people_df[\"MI\"] == 2]).dropna())\n",
    "noMIcount = (cleanTrainNoMISample[\"MI\"] == 2).sum()\n",
    "\n",
    "\n",
    "cleanTrainNoMISample = cleanTrainNoMISample.sample(frac=(MIcount/noMIcount)*1.5)\n",
    "    \n",
    "#clean data sets\n",
    "imputer = KNNImputer(n_neighbors = 11)\n",
    "    \n",
    "crudeCleanTrainMI = imputer.fit_transform(dirtyTrainMI_sample)\n",
    "cleanTrainMI = pd.DataFrame(crudeCleanTrainMI, columns = dirtyTrainMI_sample.columns)\n",
    "\n",
    "crudeCleanTest = imputer.fit_transform(test_df)\n",
    "cleanTestDf = pd.DataFrame(crudeCleanTest, columns = test_df.columns)\n",
    "\n",
    "#partition final samples\n",
    "fTrainSample = (pd.concat([cleanTrainMI, cleanTrainNoMISample])).sample(frac=1)\n",
    "\n",
    "#partition test and train\n",
    "xTrain2 = fTrainSample.drop(\"MI\", axis = 1)\n",
    "yTrain = fTrainSample[\"MI\"]\n",
    "\n",
    "\n",
    "#instanciate the object\n",
    "lr = LogisticRegression(random_state= 0)\n",
    "scaler = StandardScaler()\n",
    "pipeline = make_pipeline(scaler, lr)\n",
    "pipeline.fit(xTrain2, yTrain)\n",
    "\n",
    "#pipe it through a scalar\n",
    "#yPred2 = pipeline.predict(cleanTestDf)\n",
    "yPred3 = pipeline.predict(cleanTestDf)\n",
    "\n",
    "results = pd.DataFrame(yPred3, columns=[\"MI\"])\n",
    "\n",
    "participantID_df = participantID.to_frame(name = \"ParticipantID\")\n",
    "\n",
    "final_sheet = pd.concat([participantID_df, results], axis=1)\n",
    "\n",
    "final_sheet.to_csv(\"./Results/Regression/regression_pred.csv\", index =False)\n"
   ],
   "metadata": {
    "collapsed": false,
    "ExecuteTime": {
     "end_time": "2024-02-21T14:18:41.829231200Z",
     "start_time": "2024-02-21T14:18:41.719713600Z"
    }
   },
   "id": "16bab9e4687a4357"
  },
  {
   "cell_type": "code",
   "execution_count": null,
   "outputs": [],
   "source": [],
   "metadata": {
    "collapsed": false
   },
   "id": "b7975a9754c5286f"
  }
 ],
 "metadata": {
  "kernelspec": {
   "name": "myenv",
   "language": "python",
   "display_name": "Python (myenv)"
  },
  "language_info": {
   "codemirror_mode": {
    "name": "ipython",
    "version": 2
   },
   "file_extension": ".py",
   "mimetype": "text/x-python",
   "name": "python",
   "nbconvert_exporter": "python",
   "pygments_lexer": "ipython2",
   "version": "2.7.6"
  }
 },
 "nbformat": 4,
 "nbformat_minor": 5
}
