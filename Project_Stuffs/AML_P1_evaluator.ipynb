{
 "cells": [
  {
   "cell_type": "code",
   "execution_count": 1,
   "id": "9a5901aa",
   "metadata": {},
   "outputs": [],
   "source": [
    "# input files:\n",
    "# True MI labels (true_MI_Label.csv) and your prediction (kNN_pred.csv)\n",
    "# Make sure your file name is \"kNN_pred.csv\" for Part1."
   ]
  },
  {
   "cell_type": "code",
   "execution_count": 28,
   "id": "3ee7a090",
   "metadata": {
    "ExecuteTime": {
     "end_time": "2024-02-21T14:54:53.044299500Z",
     "start_time": "2024-02-21T14:54:53.006261400Z"
    }
   },
   "outputs": [
    {
     "name": "stdout",
     "output_type": "stream",
     "text": [
      "kNN:\n",
      "accuracy (%):  80.13698630136986 \n",
      "KL_div_score:  0.487952199912986\n"
     ]
    }
   ],
   "source": [
    "import numpy as np\n",
    "import pandas as pd\n",
    "\n",
    "# Kullback-Leibler (KL) divergence between the predicted probability and the observed target\n",
    "def KL_div(P, Q):\n",
    "    if len(P) != len(Q):\n",
    "        return 100\n",
    "    else:\n",
    "        p = np.array(P)+0.000001   # adding an epsilon to avoid log(0) \n",
    "        q = np.array(Q)+0.000001   # adding an epsilon to avoid log(0)    \n",
    "        KL = np.dot(p, np.log(p) - np.log(q))/p.sum()\n",
    "    return KL\n",
    "\n",
    "accuracy = 0\n",
    "KL_div_score = 100\n",
    "Pdf = pd.read_csv(\"true_MI_Label.csv\")\n",
    "Pdf.set_index('ParticipantID', inplace=True)\n",
    "\n",
    "Qdf = pd.read_csv(\"kNN_pred.csv\")\n",
    "Qdf.set_index('ParticipantID', inplace=True)\n",
    "\n",
    "if Pdf.shape[0] == Qdf.shape[0]:\n",
    "    PQdf = pd.concat([Pdf, Qdf], axis = 1)\n",
    "    accuracy = (1 - np.sum(np.abs((PQdf.iloc[:,0] - (PQdf.iloc[:,1]>=0.5))))/Pdf.shape[0])*100\n",
    "    KL_div_score = KL_div(PQdf.iloc[:,0], PQdf.iloc[:,1])\n",
    "    \n",
    "print(\"kNN:\\naccuracy (%): \", accuracy, \"\\nKL_div_score: \", KL_div_score)"
   ]
  },
  {
   "cell_type": "code",
   "execution_count": 9,
   "id": "58c5ea95",
   "metadata": {
    "ExecuteTime": {
     "end_time": "2024-02-21T14:14:49.630392900Z",
     "start_time": "2024-02-21T14:14:49.600390900Z"
    }
   },
   "outputs": [
    {
     "name": "stdout",
     "output_type": "stream",
     "text": [
      "Logistic Regression:\n",
      "accuracy (%):  0 \n",
      "KL_div_score:  100\n"
     ]
    }
   ],
   "source": [
    "import numpy as np\n",
    "import pandas as pd\n",
    "\n",
    "# Kullback-Leibler (KL) divergence between the predicted probability and the observed target\n",
    "def KL_div(P, Q):\n",
    "    if len(P) != len(Q):\n",
    "        return 100\n",
    "    else:\n",
    "        p = np.array(P)+0.000001   # adding an epsilon to avoid log(0) \n",
    "        q = np.array(Q)+0.000001   # adding an epsilon to avoid log(0)    \n",
    "        KL = np.dot(p, np.log(p) - np.log(q))/p.sum()\n",
    "    return KL\n",
    "\n",
    "accuracy = 0\n",
    "KL_div_score = 100\n",
    "Pdf = pd.read_csv(\"true_MI_Label.csv\")\n",
    "Pdf.set_index('ParticipantID', inplace=True)\n",
    "\n",
    "Qdf = pd.read_csv(\"regression_pred.csv\")\n",
    "Qdf.set_index('ParticipantID', inplace=True)\n",
    "\n",
    "if Pdf.shape[0] == Qdf.shape[0]:\n",
    "    PQdf = pd.concat([Pdf, Qdf], axis = 1)\n",
    "    accuracy = (1 - np.sum(np.abs((PQdf.iloc[:,0] - (PQdf.iloc[:,1]>=0.5))))/Pdf.shape[0])*100\n",
    "    KL_div_score = KL_div(PQdf.iloc[:,0], PQdf.iloc[:,1])\n",
    "    \n",
    "print(\"Logistic Regression:\\naccuracy (%): \", accuracy, \"\\nKL_div_score: \", KL_div_score)"
   ]
  },
  {
   "cell_type": "code",
   "execution_count": 6,
   "id": "b5ef83c5",
   "metadata": {
    "ExecuteTime": {
     "end_time": "2024-02-21T14:14:34.983384500Z",
     "start_time": "2024-02-21T14:14:34.971383200Z"
    }
   },
   "outputs": [],
   "source": []
  }
 ],
 "metadata": {
  "kernelspec": {
   "display_name": "Python 3 (ipykernel)",
   "language": "python",
   "name": "python3"
  },
  "language_info": {
   "codemirror_mode": {
    "name": "ipython",
    "version": 3
   },
   "file_extension": ".py",
   "mimetype": "text/x-python",
   "name": "python",
   "nbconvert_exporter": "python",
   "pygments_lexer": "ipython3",
   "version": "3.10.9"
  }
 },
 "nbformat": 4,
 "nbformat_minor": 5
}
