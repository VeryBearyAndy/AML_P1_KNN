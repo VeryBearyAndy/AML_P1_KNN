{
 "cells": [
  {
   "cell_type": "code",
   "execution_count": 12,
   "outputs": [],
   "source": [
    "import numpy as np\n",
    "import pandas as pd\n",
    "from sklearn.model_selection import train_test_split\n",
    "from sklearn.impute import KNNImputer\n",
    "from sklearn.linear_model import LogisticRegression\n",
    "from sklearn.preprocessing import StandardScaler\n",
    "from sklearn.pipeline import make_pipeline"
   ],
   "metadata": {
    "collapsed": false,
    "ExecuteTime": {
     "end_time": "2024-02-20T14:53:52.032874900Z",
     "start_time": "2024-02-20T14:53:52.011877400Z"
    }
   },
   "id": "61cdc504560bceb3"
  },
  {
   "cell_type": "code",
   "execution_count": 34,
   "outputs": [
    {
     "name": "stdout",
     "output_type": "stream",
     "text": [
      "0.7198581560283688\n",
      "              precision    recall  f1-score   support\n",
      "\n",
      "         1.0       0.29      0.81      0.42        36\n",
      "         2.0       0.96      0.71      0.81       246\n",
      "\n",
      "    accuracy                           0.72       282\n",
      "   macro avg       0.62      0.76      0.62       282\n",
      "weighted avg       0.88      0.72      0.76       282\n"
     ]
    }
   ],
   "source": [
    "people_df = pd.read_csv(\"NHANES_data_train.csv\")\n",
    "trainDf, testDf = train_test_split(people_df, test_size = 0.2, random_state = None)\n",
    "\n",
    "MIcount = (trainDf[\"MI\"] == 1).sum()\n",
    "noMIcount = (trainDf[\"MI\"] == 2).sum()\n",
    "testMIcount = (testDf[\"MI\"] == 1).sum()\n",
    "testnoMIcount = (testDf[\"MI\"] == 2).sum()\n",
    "\n",
    "dirtyTrainMI_sample = trainDf[trainDf[\"MI\"] == 1]\n",
    "cleanTrainNoMISample = ((trainDf[trainDf[\"MI\"] == 2]).dropna())\n",
    "noMIcount = (cleanTrainNoMISample[\"MI\"] == 2).sum()\n",
    "cleanTrainNoMISample = cleanTrainNoMISample.sample(frac=(MIcount/noMIcount))\n",
    "    \n",
    "dirtyTestMI_sample = testDf[testDf[\"MI\"] == 1]\n",
    "cleanTestNoMISample = ((testDf[testDf[\"MI\"] == 2]).dropna())\n",
    "\n",
    "imputer = KNNImputer(n_neighbors = 3)\n",
    "    \n",
    "crudeCleanTrainMI = imputer.fit_transform(dirtyTrainMI_sample)\n",
    "cleanTrainMI = pd.DataFrame(crudeCleanTrainMI, columns = dirtyTrainMI_sample.columns)\n",
    "\n",
    "crudeCleanTestMI = imputer.fit_transform(dirtyTestMI_sample)\n",
    "cleanTestMI = pd.DataFrame(crudeCleanTestMI, columns = dirtyTestMI_sample.columns)\n",
    "\n",
    "fTrainSample = (pd.concat([cleanTrainMI, cleanTrainNoMISample])).sample(frac=1)\n",
    "fTestSample = (pd.concat([cleanTestMI, cleanTestNoMISample])).sample(frac=1)\n",
    "\n",
    "xTrain = fTrainSample.drop(\"MI\", axis = 1)\n",
    "yTrain = fTrainSample[\"MI\"]\n",
    "\n",
    "xTest = fTestSample.drop(\"MI\", axis=1)\n",
    "yTest = fTestSample[\"MI\"]  # Corrected to use fTestSample\n",
    "\n",
    "\n",
    "lr = LogisticRegression(random_state= 0)\n",
    "scaler = StandardScaler()\n",
    "pipeline = make_pipeline(scaler, lr)\n",
    "pipeline.fit(xTrain, yTrain)\n",
    "\n",
    "yPred = pipeline.predict(xTest)\n",
    "\n",
    "from sklearn.metrics import accuracy_score, classification_report\n",
    "print(accuracy_score(yTest, yPred))\n",
    "print(classification_report(yTest, yPred))"
   ],
   "metadata": {
    "collapsed": false,
    "ExecuteTime": {
     "end_time": "2024-02-20T15:00:33.382214500Z",
     "start_time": "2024-02-20T15:00:33.323217Z"
    }
   },
   "id": "b7811a19f74356cb"
  },
  {
   "cell_type": "code",
   "execution_count": null,
   "outputs": [],
   "source": [],
   "metadata": {
    "collapsed": false
   },
   "id": "3201971e61d07b01"
  }
 ],
 "metadata": {
  "kernelspec": {
   "name": "myenv",
   "language": "python",
   "display_name": "Python (myenv)"
  },
  "language_info": {
   "codemirror_mode": {
    "name": "ipython",
    "version": 2
   },
   "file_extension": ".py",
   "mimetype": "text/x-python",
   "name": "python",
   "nbconvert_exporter": "python",
   "pygments_lexer": "ipython2",
   "version": "2.7.6"
  }
 },
 "nbformat": 4,
 "nbformat_minor": 5
}
